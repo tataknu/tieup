{
 "cells": [
  {
   "cell_type": "code",
   "execution_count": 1,
   "metadata": {},
   "outputs": [],
   "source": [
    "import yfinance as yf\n",
    "import requests\n",
    "import pandas as pd\n",
    "import datetime as dt\n",
    "import time\n",
    "from datetime import timedelta\n",
    "from prod.model import *\n",
    "from functools import reduce\n",
    "from yahoo_fin import stock_info as si\n",
    "import numpy as np\n",
    "import gspread\n",
    "import pandas as pd\n",
    "from oauth2client.service_account import ServiceAccountCredentials\n",
    "import pygsheets\n",
    "import os.path"
   ]
  },
  {
   "cell_type": "code",
   "execution_count": 22,
   "metadata": {},
   "outputs": [
    {
     "name": "stdout",
     "output_type": "stream",
     "text": [
      "Creating portafolio from google drive...\n"
     ]
    }
   ],
   "source": [
    "import subprocess\n",
    "try:\n",
    "    print(\"Creating portafolio from google drive...\")\n",
    "    os.system(\"python creator.py\")\n",
    "except:\n",
    "    print(\"Unable to create the portafolio\")\n",
    "    print(\"Please check drive connections\")"
   ]
  },
  {
   "cell_type": "code",
   "execution_count": 23,
   "metadata": {},
   "outputs": [
    {
     "ename": "AttributeError",
     "evalue": "'float' object has no attribute 'replace'",
     "output_type": "error",
     "traceback": [
      "\u001b[0;31m---------------------------------------------------------------------------\u001b[0m",
      "\u001b[0;31mAttributeError\u001b[0m                            Traceback (most recent call last)",
      "\u001b[0;32m<ipython-input-23-f8ff9d3ec32c>\u001b[0m in \u001b[0;36m<module>\u001b[0;34m\u001b[0m\n\u001b[0;32m----> 1\u001b[0;31m \u001b[0mjson\u001b[0m\u001b[0;34m[\u001b[0m\u001b[0;34m\"usd\"\u001b[0m\u001b[0;34m]\u001b[0m\u001b[0;34m=\u001b[0m\u001b[0mjson\u001b[0m\u001b[0;34m[\u001b[0m\u001b[0;34m\"usd\"\u001b[0m\u001b[0;34m]\u001b[0m\u001b[0;34m.\u001b[0m\u001b[0mapply\u001b[0m\u001b[0;34m(\u001b[0m\u001b[0;32mlambda\u001b[0m \u001b[0mx\u001b[0m\u001b[0;34m:\u001b[0m \u001b[0;34m(\u001b[0m\u001b[0mfloat\u001b[0m\u001b[0;34m(\u001b[0m\u001b[0mx\u001b[0m\u001b[0;34m.\u001b[0m\u001b[0mreplace\u001b[0m\u001b[0;34m(\u001b[0m\u001b[0;34m\",\"\u001b[0m\u001b[0;34m,\u001b[0m\u001b[0;34m\".\"\u001b[0m\u001b[0;34m)\u001b[0m\u001b[0;34m)\u001b[0m\u001b[0;34m)\u001b[0m\u001b[0;34m)\u001b[0m\u001b[0;34m\u001b[0m\u001b[0;34m\u001b[0m\u001b[0m\n\u001b[0m\u001b[1;32m      2\u001b[0m \u001b[0msum\u001b[0m\u001b[0;34m(\u001b[0m\u001b[0mjson\u001b[0m\u001b[0;34m[\u001b[0m\u001b[0;34m\"usd\"\u001b[0m\u001b[0;34m]\u001b[0m\u001b[0;34m)\u001b[0m\u001b[0;34m\u001b[0m\u001b[0;34m\u001b[0m\u001b[0m\n\u001b[1;32m      3\u001b[0m \u001b[0mlen\u001b[0m\u001b[0;34m(\u001b[0m\u001b[0mjson\u001b[0m\u001b[0;34m[\u001b[0m\u001b[0;34m'tickers'\u001b[0m\u001b[0;34m]\u001b[0m\u001b[0;34m)\u001b[0m\u001b[0;34m\u001b[0m\u001b[0;34m\u001b[0m\u001b[0m\n",
      "\u001b[0;32m~/miniconda3/lib/python3.7/site-packages/pandas/core/series.py\u001b[0m in \u001b[0;36mapply\u001b[0;34m(self, func, convert_dtype, args, **kwds)\u001b[0m\n\u001b[1;32m   3846\u001b[0m             \u001b[0;32melse\u001b[0m\u001b[0;34m:\u001b[0m\u001b[0;34m\u001b[0m\u001b[0;34m\u001b[0m\u001b[0m\n\u001b[1;32m   3847\u001b[0m                 \u001b[0mvalues\u001b[0m \u001b[0;34m=\u001b[0m \u001b[0mself\u001b[0m\u001b[0;34m.\u001b[0m\u001b[0mastype\u001b[0m\u001b[0;34m(\u001b[0m\u001b[0mobject\u001b[0m\u001b[0;34m)\u001b[0m\u001b[0;34m.\u001b[0m\u001b[0mvalues\u001b[0m\u001b[0;34m\u001b[0m\u001b[0;34m\u001b[0m\u001b[0m\n\u001b[0;32m-> 3848\u001b[0;31m                 \u001b[0mmapped\u001b[0m \u001b[0;34m=\u001b[0m \u001b[0mlib\u001b[0m\u001b[0;34m.\u001b[0m\u001b[0mmap_infer\u001b[0m\u001b[0;34m(\u001b[0m\u001b[0mvalues\u001b[0m\u001b[0;34m,\u001b[0m \u001b[0mf\u001b[0m\u001b[0;34m,\u001b[0m \u001b[0mconvert\u001b[0m\u001b[0;34m=\u001b[0m\u001b[0mconvert_dtype\u001b[0m\u001b[0;34m)\u001b[0m\u001b[0;34m\u001b[0m\u001b[0;34m\u001b[0m\u001b[0m\n\u001b[0m\u001b[1;32m   3849\u001b[0m \u001b[0;34m\u001b[0m\u001b[0m\n\u001b[1;32m   3850\u001b[0m         \u001b[0;32mif\u001b[0m \u001b[0mlen\u001b[0m\u001b[0;34m(\u001b[0m\u001b[0mmapped\u001b[0m\u001b[0;34m)\u001b[0m \u001b[0;32mand\u001b[0m \u001b[0misinstance\u001b[0m\u001b[0;34m(\u001b[0m\u001b[0mmapped\u001b[0m\u001b[0;34m[\u001b[0m\u001b[0;36m0\u001b[0m\u001b[0;34m]\u001b[0m\u001b[0;34m,\u001b[0m \u001b[0mSeries\u001b[0m\u001b[0;34m)\u001b[0m\u001b[0;34m:\u001b[0m\u001b[0;34m\u001b[0m\u001b[0;34m\u001b[0m\u001b[0m\n",
      "\u001b[0;32mpandas/_libs/lib.pyx\u001b[0m in \u001b[0;36mpandas._libs.lib.map_infer\u001b[0;34m()\u001b[0m\n",
      "\u001b[0;32m<ipython-input-23-f8ff9d3ec32c>\u001b[0m in \u001b[0;36m<lambda>\u001b[0;34m(x)\u001b[0m\n\u001b[0;32m----> 1\u001b[0;31m \u001b[0mjson\u001b[0m\u001b[0;34m[\u001b[0m\u001b[0;34m\"usd\"\u001b[0m\u001b[0;34m]\u001b[0m\u001b[0;34m=\u001b[0m\u001b[0mjson\u001b[0m\u001b[0;34m[\u001b[0m\u001b[0;34m\"usd\"\u001b[0m\u001b[0;34m]\u001b[0m\u001b[0;34m.\u001b[0m\u001b[0mapply\u001b[0m\u001b[0;34m(\u001b[0m\u001b[0;32mlambda\u001b[0m \u001b[0mx\u001b[0m\u001b[0;34m:\u001b[0m \u001b[0;34m(\u001b[0m\u001b[0mfloat\u001b[0m\u001b[0;34m(\u001b[0m\u001b[0mx\u001b[0m\u001b[0;34m.\u001b[0m\u001b[0mreplace\u001b[0m\u001b[0;34m(\u001b[0m\u001b[0;34m\",\"\u001b[0m\u001b[0;34m,\u001b[0m\u001b[0;34m\".\"\u001b[0m\u001b[0;34m)\u001b[0m\u001b[0;34m)\u001b[0m\u001b[0;34m)\u001b[0m\u001b[0;34m)\u001b[0m\u001b[0;34m\u001b[0m\u001b[0;34m\u001b[0m\u001b[0m\n\u001b[0m\u001b[1;32m      2\u001b[0m \u001b[0msum\u001b[0m\u001b[0;34m(\u001b[0m\u001b[0mjson\u001b[0m\u001b[0;34m[\u001b[0m\u001b[0;34m\"usd\"\u001b[0m\u001b[0;34m]\u001b[0m\u001b[0;34m)\u001b[0m\u001b[0;34m\u001b[0m\u001b[0;34m\u001b[0m\u001b[0m\n\u001b[1;32m      3\u001b[0m \u001b[0mlen\u001b[0m\u001b[0;34m(\u001b[0m\u001b[0mjson\u001b[0m\u001b[0;34m[\u001b[0m\u001b[0;34m'tickers'\u001b[0m\u001b[0;34m]\u001b[0m\u001b[0;34m)\u001b[0m\u001b[0;34m\u001b[0m\u001b[0;34m\u001b[0m\u001b[0m\n",
      "\u001b[0;31mAttributeError\u001b[0m: 'float' object has no attribute 'replace'"
     ]
    }
   ],
   "source": [
    "json[\"usd\"]=json[\"usd\"].apply(lambda x: (float(x.replace(\",\",\".\"))))\n",
    "sum(json[\"usd\"])\n",
    "len(json['tickers'])"
   ]
  },
  {
   "cell_type": "code",
   "execution_count": 18,
   "metadata": {},
   "outputs": [
    {
     "ename": "TypeError",
     "evalue": "unsupported operand type(s) for +: 'int' and 'str'",
     "output_type": "error",
     "traceback": [
      "\u001b[0;31m---------------------------------------------------------------------------\u001b[0m",
      "\u001b[0;31mTypeError\u001b[0m                                 Traceback (most recent call last)",
      "\u001b[0;32m<ipython-input-18-0d1adc0d63b0>\u001b[0m in \u001b[0;36m<module>\u001b[0;34m\u001b[0m\n\u001b[1;32m      6\u001b[0m \u001b[0mtickers\u001b[0m\u001b[0;34m=\u001b[0m\u001b[0mdict\u001b[0m\u001b[0;34m(\u001b[0m\u001b[0mzip\u001b[0m\u001b[0;34m(\u001b[0m\u001b[0mtickers\u001b[0m\u001b[0;34m,\u001b[0m\u001b[0mperc\u001b[0m\u001b[0;34m)\u001b[0m\u001b[0;34m)\u001b[0m\u001b[0;34m\u001b[0m\u001b[0;34m\u001b[0m\u001b[0m\n\u001b[1;32m      7\u001b[0m \u001b[0;34m\u001b[0m\u001b[0m\n\u001b[0;32m----> 8\u001b[0;31m \u001b[0minitial_amount\u001b[0m\u001b[0;34m=\u001b[0m\u001b[0msum\u001b[0m\u001b[0;34m(\u001b[0m\u001b[0mjson\u001b[0m\u001b[0;34m[\u001b[0m\u001b[0;34m\"usd\"\u001b[0m\u001b[0;34m]\u001b[0m\u001b[0;34m)\u001b[0m\u001b[0;34m/\u001b[0m\u001b[0mlen\u001b[0m\u001b[0;34m(\u001b[0m\u001b[0mjson\u001b[0m\u001b[0;34m[\u001b[0m\u001b[0;34m'tickers'\u001b[0m\u001b[0;34m]\u001b[0m\u001b[0;34m)\u001b[0m\u001b[0;34m\u001b[0m\u001b[0;34m\u001b[0m\u001b[0m\n\u001b[0m\u001b[1;32m      9\u001b[0m \u001b[0;34m\u001b[0m\u001b[0m\n\u001b[1;32m     10\u001b[0m \u001b[0;31m# ponderacion del portafolio\u001b[0m\u001b[0;34m\u001b[0m\u001b[0;34m\u001b[0m\u001b[0;34m\u001b[0m\u001b[0m\n",
      "\u001b[0;31mTypeError\u001b[0m: unsupported operand type(s) for +: 'int' and 'str'"
     ]
    }
   ],
   "source": [
    "json=pd.read_json(\"../Data/purchase_etf.json\")\n",
    "\n",
    "json=json.to_dict('series')\n",
    "tickers=list(json['tickers'])\n",
    "perc=list(json['perc'])\n",
    "tickers=dict(zip(tickers,perc))\n",
    "\n",
    "initial_amount=sum(json[\"usd\"])/len(json['tickers'])\n",
    "\n",
    "# ponderacion del portafolio\n",
    "ponderacion=tickers\n",
    "\n",
    "# portafolio en el que se invierte\n",
    "tickers=list(ponderacion.keys())\n"
   ]
  },
  {
   "cell_type": "code",
   "execution_count": 4,
   "metadata": {},
   "outputs": [
    {
     "name": "stdout",
     "output_type": "stream",
     "text": [
      "08/14/2020\n",
      "Creating ticker ...\n",
      "Method 1 ...\n",
      "ETHO was created, date:08/14/2020\n",
      "08/14/2020\n",
      "Creating ticker ...\n",
      "Method 1 ...\n",
      "ESGV was created, date:08/14/2020\n",
      "08/14/2020\n",
      "Creating ticker ...\n",
      "Method 1 ...\n",
      "VT was created, date:08/14/2020\n",
      "08/14/2020\n",
      "Creating ticker ...\n",
      "Method 1 ...\n",
      "XLK was created, date:08/14/2020\n",
      "08/14/2020\n",
      "Creating ticker ...\n",
      "Method 1 ...\n",
      "VTI was created, date:08/14/2020\n",
      "08/14/2020\n",
      "Creating ticker ...\n",
      "Method 1 ...\n",
      "IVV was created, date:08/14/2020\n",
      "08/14/2020\n",
      "Creating ticker ...\n",
      "Method 1 ...\n",
      "QQQ was created, date:08/14/2020\n",
      "08/14/2020\n",
      "Creating ticker ...\n",
      "Method 1 ...\n",
      "ESGU was created, date:08/14/2020\n",
      "08/14/2020\n",
      "Creating ticker ...\n",
      "Method 1 ...\n",
      "SMH was created, date:08/14/2020\n",
      "08/14/2020\n",
      "Creating ticker ...\n",
      "Method 1 ...\n",
      "ARKW was created, date:08/14/2020\n",
      "08/14/2020\n",
      "Creating ticker ...\n",
      "Method 1 ...\n",
      "ARKK was created, date:08/14/2020\n"
     ]
    }
   ],
   "source": [
    "dataframes=[]\n",
    "for i in tickers:\n",
    "       \n",
    "    # Generamos el diccionario pada cada ticker\n",
    "    string=\"{i}=ticker('{i}')\".format(i=i)\n",
    "    exec(string)\n",
    "    \n",
    "    string2=\"df_{i}={i}.getLatest()\".format(i=i)\n",
    "    exec(string2)\n",
    "    \n",
    "    string3=\"df_{i}['ticker']='{i}'\".format(i=i)\n",
    "    exec(string3)\n",
    "    \n",
    "    string4=\"dataframes.append(df_{i})\".format(i=i)\n",
    "    exec(string4)\n",
    "\n",
    "# Concatenamos todos los dataframes en solo uno\n",
    "day_display=reduce(lambda x, y: pd.concat([x, y]), dataframes)\n",
    "\n",
    "day_display=day_display.reset_index()\n",
    "\n",
    "dataframes=[]\n",
    "dataframes_2=[]\n",
    "estado=False\n",
    "\n",
    "for i in tickers:\n",
    "    \n",
    "    # Creamos un dataframe para seleccionar los registros por cada ticker\n",
    "    df2=day_display[day_display['ticker']==i]\n",
    "    \n",
    "    # Separamos los tickers que tienen mas de una entrada\n",
    "    if len(day_display[day_display['ticker']==i])>1:\n",
    "        dataframes.append(df2)\n",
    "    else:\n",
    "        estado=True\n",
    "        dataframes_2.append(df2)\n",
    "    \n",
    "# Juntamos los registros con mas de una entrada\n",
    "df_with_many_entries=reduce(lambda x, y: pd.concat([x, y]), dataframes)\n",
    "\n",
    "# Nos quedamos con los ultimos datos de lectura\n",
    "df_with_many_entries=df_with_many_entries[df_with_many_entries['index']==1]\n",
    "\n",
    "day_display=df_with_many_entries\n",
    "\n",
    "# Si vienen resultados repetidos tenemos que juntar los que no venian repetidos\n",
    "if estado==True:\n",
    "    # Juntamos los registros con solo una entrada\n",
    "    df_with_one=reduce(lambda x, y: pd.concat([x, y]), dataframes_2)\n",
    "    day_display=pd.concat(df_with_many_entries,df_with_one)\n",
    "else:\n",
    "    pass\n",
    "\n",
    "# agregamos una columna de ponderacion de cada instrumento\n",
    "day_display[\"pond\"]=day_display[\"ticker\"].apply(lambda x: ponderacion.get(x))\n",
    "\n",
    "day_display[\"pond\"]=day_display[\"pond\"].apply(lambda x: (float(x.replace(\",\",\".\")))/100)\n",
    "\n",
    "# Extraemos los montos que no tuvieron pnderacion\n",
    "not_considered_per=1-sum(day_display[\"pond\"])\n",
    "\n",
    "# Guardamos lo que no se invirtio.. no se considera en la estimacion\n",
    "rest=initial_amount*not_considered_per\n",
    "invested=initial_amount-rest\n",
    "\n",
    "# Agregamos columnas de cantidad inicial invertida y no invertida independiente del fondo\n",
    "day_display[\"initial_invested_usd\"]=initial_amount\n",
    "day_display[\"real_invested\"]=invested\n",
    "day_display[\"not_invested\"]=rest\n",
    "\n",
    "# Calculamos lo que se invirtio en cada instrumento\n",
    "day_display[\"invested\"]=day_display[\"pond\"].apply(lambda x: x*initial_amount)\n",
    "\n",
    "# Calculamos las ganancias o perdidas\n",
    "day_display[\"profit\"]=(day_display[\"change\"]/100)*(day_display[\"invested\"])\n",
    "\n",
    "# Calculamos el nuevo valor de la cantidad invertida en el instrumento \n",
    "day_display[\"estimated\"]=day_display[\"invested\"]+day_display[\"profit\"]\n",
    "\n",
    "# Agregamos una columna con el resultado final de lo invertido\n",
    "day_display['total_result']=sum(day_display[\"estimated\"])-sum(day_display[\"invested\"])\n",
    "\n",
    "day_display=day_display.drop(columns=[\"index\"])\n",
    "\n",
    "save_gsheets(0,day_display)"
   ]
  },
  {
   "cell_type": "code",
   "execution_count": 5,
   "metadata": {},
   "outputs": [],
   "source": [
    "resultado_dia=sum(day_display[\"estimated\"])+sum(day_display[\"not_invested\"])/len(day_display[\"not_invested\"])\n",
    "today=dt.date.today().strftime('%m/%d/%Y')\n",
    "log={\"date\":today,\"result\":resultado_dia}\n",
    "today=dt.date.today().strftime('%m%d%Y')"
   ]
  },
  {
   "cell_type": "code",
   "execution_count": 12,
   "metadata": {},
   "outputs": [],
   "source": [
    "year=dt.date.today().strftime('%Y')\n",
    "month=dt.date.today().strftime('%m')\n",
    "day=dt.date.today().strftime('%d')\n",
    "\n",
    "try:\n",
    "    os.mkdir(\"../Data/history/\"+str(year))\n",
    "except:\n",
    "    pass\n",
    "\n",
    "try:\n",
    "    os.mkdir(\"../Data/history/\"+str(year)+\"/\"+str(month))\n",
    "except:\n",
    "    pass\n",
    "    \n",
    "day_display.to_csv(\"../Data/history/\"+str(year)+\"/\"+str(month)+\"/\"+str(today)+\".csv\",index=False)\n",
    "    \n",
    "from datetime import datetime\n",
    "from pytz import timezone\n",
    "import json   \n",
    "tz = timezone('EST')\n",
    "now_est=datetime.now(tz)\n",
    "close_time = now_est.replace( hour=16, minute=15, second=0, microsecond=0 )\n",
    "if close_time<now_est:\n",
    "    gc = pygsheets.authorize(service_file='key.json')\n",
    "    sh = gc.open_by_url('https://docs.google.com/spreadsheets/d/1HOLOArAJ7itQALLOE4Gvn63qwPscZU-_5wyHyTU0GHw/edit#gid=0')\n",
    "    wks = sh[1]\n",
    "    wks.update_value('C2',resultado_dia, parse=None)\n",
    "else:\n",
    "    pass"
   ]
  },
  {
   "cell_type": "code",
   "execution_count": 11,
   "metadata": {},
   "outputs": [
    {
     "data": {
      "text/plain": [
       "4994.367361455138"
      ]
     },
     "execution_count": 11,
     "metadata": {},
     "output_type": "execute_result"
    }
   ],
   "source": []
  },
  {
   "cell_type": "code",
   "execution_count": null,
   "metadata": {},
   "outputs": [],
   "source": []
  }
 ],
 "metadata": {
  "kernelspec": {
   "display_name": "Python 3",
   "language": "python",
   "name": "python3"
  },
  "language_info": {
   "codemirror_mode": {
    "name": "ipython",
    "version": 3
   },
   "file_extension": ".py",
   "mimetype": "text/x-python",
   "name": "python",
   "nbconvert_exporter": "python",
   "pygments_lexer": "ipython3",
   "version": "3.7.7"
  }
 },
 "nbformat": 4,
 "nbformat_minor": 4
}
